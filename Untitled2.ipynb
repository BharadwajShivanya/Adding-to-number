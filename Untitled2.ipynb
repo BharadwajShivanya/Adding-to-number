{
  "nbformat": 4,
  "nbformat_minor": 0,
  "metadata": {
    "colab": {
      "provenance": [],
      "authorship_tag": "ABX9TyPW0EAXdjyxjFOZ3JNzDTAP",
      "include_colab_link": true
    },
    "kernelspec": {
      "name": "python3",
      "display_name": "Python 3"
    },
    "language_info": {
      "name": "python"
    }
  },
  "cells": [
    {
      "cell_type": "markdown",
      "metadata": {
        "id": "view-in-github",
        "colab_type": "text"
      },
      "source": [
        "<a href=\"https://colab.research.google.com/github/BharadwajShivanya/Adding-to-number/blob/main/Untitled2.ipynb\" target=\"_parent\"><img src=\"https://colab.research.google.com/assets/colab-badge.svg\" alt=\"Open In Colab\"/></a>"
      ]
    },
    {
      "cell_type": "code",
      "execution_count": 14,
      "metadata": {
        "colab": {
          "base_uri": "https://localhost:8080/"
        },
        "id": "V8vvoDhhju3d",
        "outputId": "21c142fe-468a-45fb-e6b4-fa2a92609363"
      },
      "outputs": [
        {
          "output_type": "stream",
          "name": "stdout",
          "text": [
            " start the python\n",
            "Welcome to python Krish\n",
            "it is multipurpose\n",
            "you can do anything in datascience \n"
          ]
        }
      ],
      "source": [
        "def func1(f_name):#f name is parameter\n",
        "    print (f'Welcome to python {f_name}')\n",
        "    print('it is multipurpose')\n",
        "\n",
        "\n",
        "print(\" start the python\")\n",
        "func1(\"Krish\")#krish is argument\n",
        "print(\"you can do anything in datascience \")\n"
      ]
    },
    {
      "cell_type": "code",
      "source": [
        "def cost_1 (mrp, shipping, discount):\n",
        "  selling_price = mrp+shipping-discount\n",
        "  print(selling_price)\n",
        "\n",
        "print(\"total sellig price\")\n",
        "cost_1( mrp=5000,discount=200,shipping=100)"
      ],
      "metadata": {
        "colab": {
          "base_uri": "https://localhost:8080/"
        },
        "id": "NdPe_Pawm2GJ",
        "outputId": "f4ff7dec-a193-42ef-8da1-9a38341c3011"
      },
      "execution_count": 21,
      "outputs": [
        {
          "output_type": "stream",
          "name": "stdout",
          "text": [
            "total sellig price\n",
            "4900\n"
          ]
        }
      ]
    },
    {
      "cell_type": "code",
      "source": [
        "#Write func that does the arithmetic functions\n",
        "def arith_1(a,b):\n",
        "    print(\"add\", a+b)\n",
        "    print(\"sub\", a-b)\n",
        "\n",
        "arith_1(10,5)"
      ],
      "metadata": {
        "colab": {
          "base_uri": "https://localhost:8080/"
        },
        "id": "_7LPAQiipbLA",
        "outputId": "1829834c-7428-4553-b014-d1d407692c23"
      },
      "execution_count": 25,
      "outputs": [
        {
          "output_type": "stream",
          "name": "stdout",
          "text": [
            "add 15\n",
            "sub 5\n"
          ]
        }
      ]
    },
    {
      "cell_type": "code",
      "source": [
        "emoji converter\n",
        "#message=input(enter)\n",
        "def emoji_converter(message):\n",
        "    words = message.split(' ') #converts input message into list of words\n",
        "#create an emoji dictionery use windows logo key + dot(.) to add emojis\n",
        "    emojis = {\n",
        "        \":)\" : \"😄\" ,\n",
        "        \":(\" : \" 😥\"\n",
        "        }\n",
        "    output =''\n",
        "    for word in words:\n",
        "        output+=emojis.get(word,word)+\" \"\n",
        "    print(output)\n",
        "\n",
        "message=input('enter the message')\n",
        "emoji_converter(message)"
      ],
      "metadata": {
        "colab": {
          "base_uri": "https://localhost:8080/",
          "height": 140
        },
        "id": "wYSSA5K5tF4R",
        "outputId": "32118061-f96f-48b4-b3d8-577899d223c0"
      },
      "execution_count": 28,
      "outputs": [
        {
          "output_type": "error",
          "ename": "SyntaxError",
          "evalue": "invalid syntax (<ipython-input-28-c28d9f04bc86>, line 1)",
          "traceback": [
            "\u001b[0;36m  File \u001b[0;32m\"<ipython-input-28-c28d9f04bc86>\"\u001b[0;36m, line \u001b[0;32m1\u001b[0m\n\u001b[0;31m    emoji converter\u001b[0m\n\u001b[0m          ^\u001b[0m\n\u001b[0;31mSyntaxError\u001b[0m\u001b[0;31m:\u001b[0m invalid syntax\n"
          ]
        }
      ]
    },
    {
      "cell_type": "code",
      "source": [
        "# write a function to reverse a string\n"
      ],
      "metadata": {
        "id": "X3kXI_3HvT7G"
      },
      "execution_count": null,
      "outputs": []
    }
  ]
}